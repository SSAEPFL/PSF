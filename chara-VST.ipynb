{
 "cells": [
  {
   "cell_type": "code",
   "execution_count": 1,
   "metadata": {},
   "outputs": [],
   "source": [
    "from astropy.io import fits\n",
    "import matplotlib.pyplot as plt\n",
    "import numpy as np"
   ]
  },
  {
   "cell_type": "code",
   "execution_count": 12,
   "metadata": {},
   "outputs": [
    {
     "ename": "ValueError",
     "evalue": "setting an array element with a sequence. The requested array has an inhomogeneous shape after 1 dimensions. The detected shape was (7,) + inhomogeneous part.",
     "output_type": "error",
     "traceback": [
      "\u001b[0;31m---------------------------------------------------------------------------\u001b[0m",
      "\u001b[0;31mValueError\u001b[0m                                Traceback (most recent call last)",
      "\u001b[1;32m/Users/lucahartman/Documents/EPFL/ssa/proj-sem/PSF/chara-VST.ipynb Cell 2'\u001b[0m in \u001b[0;36m<cell line: 7>\u001b[0;34m()\u001b[0m\n\u001b[1;32m      <a href='vscode-notebook-cell:/Users/lucahartman/Documents/EPFL/ssa/proj-sem/PSF/chara-VST.ipynb#ch0000001?line=4'>5</a>\u001b[0m img \u001b[39m=\u001b[39m np\u001b[39m.\u001b[39mzeros((\u001b[39m4\u001b[39m\u001b[39m*\u001b[39mshape_one_tile[\u001b[39m0\u001b[39m], \u001b[39m8\u001b[39m\u001b[39m*\u001b[39mshape_one_tile[\u001b[39m1\u001b[39m]))\n\u001b[1;32m      <a href='vscode-notebook-cell:/Users/lucahartman/Documents/EPFL/ssa/proj-sem/PSF/chara-VST.ipynb#ch0000001?line=5'>6</a>\u001b[0m all_tiles \u001b[39m=\u001b[39m [hdul[i]\u001b[39m.\u001b[39mdata \u001b[39mfor\u001b[39;00m i \u001b[39min\u001b[39;00m \u001b[39mrange\u001b[39m(\u001b[39mlen\u001b[39m(hdul)\u001b[39m-\u001b[39m\u001b[39m1\u001b[39m)]\n\u001b[0;32m----> <a href='vscode-notebook-cell:/Users/lucahartman/Documents/EPFL/ssa/proj-sem/PSF/chara-VST.ipynb#ch0000001?line=6'>7</a>\u001b[0m img[:shape_one_tile[\u001b[39m0\u001b[39m], :\u001b[39m8\u001b[39m\u001b[39m*\u001b[39mshape_one_tile[\u001b[39m1\u001b[39m]] \u001b[39m=\u001b[39m all_tiles[:\u001b[39m7\u001b[39m]\n\u001b[1;32m      <a href='vscode-notebook-cell:/Users/lucahartman/Documents/EPFL/ssa/proj-sem/PSF/chara-VST.ipynb#ch0000001?line=8'>9</a>\u001b[0m data \u001b[39m=\u001b[39m hdul[\u001b[39m1\u001b[39m]\u001b[39m.\u001b[39mdata\n\u001b[1;32m     <a href='vscode-notebook-cell:/Users/lucahartman/Documents/EPFL/ssa/proj-sem/PSF/chara-VST.ipynb#ch0000001?line=10'>11</a>\u001b[0m plt\u001b[39m.\u001b[39mfigure()\n",
      "\u001b[0;31mValueError\u001b[0m: setting an array element with a sequence. The requested array has an inhomogeneous shape after 1 dimensions. The detected shape was (7,) + inhomogeneous part."
     ]
    }
   ],
   "source": [
    "# open image\n",
    "filename = \"../VST/images/OMEGA.2020-12-02T00_52_12.580.fits\"\n",
    "hdul = fits.open(filename)\n",
    "shape_one_tile = np.shape(hdul[1].data)\n",
    "img = np.zeros((4*shape_one_tile[0], 8*shape_one_tile[1]))\n",
    "all_tiles = [hdul[i].data for i in range(len(hdul)-1)]\n",
    "img[:shape_one_tile[0], :8*shape_one_tile[1]] = all_tiles[:7]\n",
    "    \n",
    "data = hdul[1].data\n",
    "\n",
    "plt.figure()\n",
    "plt.title('VST image')\n",
    "plt.imshow(img, origin='lower', cmap='viridis', interpolation='none')\n",
    "plt.colorbar()\n",
    "plt.show()\n"
   ]
  },
  {
   "cell_type": "code",
   "execution_count": 5,
   "metadata": {},
   "outputs": [
    {
     "name": "stderr",
     "output_type": "stream",
     "text": [
      "/opt/homebrew/lib/python3.9/site-packages/numpy/core/fromnumeric.py:1970: VisibleDeprecationWarning: Creating an ndarray from ragged nested sequences (which is a list-or-tuple of lists-or-tuples-or ndarrays with different lengths or shapes) is deprecated. If you meant to do this, you must specify 'dtype=object' when creating the ndarray.\n",
      "  result = asarray(a).shape\n"
     ]
    },
    {
     "data": {
      "text/plain": [
       "(32,)"
      ]
     },
     "execution_count": 5,
     "metadata": {},
     "output_type": "execute_result"
    }
   ],
   "source": [
    "np.shape(all_tiles)"
   ]
  },
  {
   "cell_type": "code",
   "execution_count": null,
   "metadata": {},
   "outputs": [],
   "source": []
  }
 ],
 "metadata": {
  "interpreter": {
   "hash": "b0fa6594d8f4cbf19f97940f81e996739fb7646882a419484c72d19e05852a7e"
  },
  "kernelspec": {
   "display_name": "Python 3.9.12 64-bit",
   "language": "python",
   "name": "python3"
  },
  "language_info": {
   "codemirror_mode": {
    "name": "ipython",
    "version": 3
   },
   "file_extension": ".py",
   "mimetype": "text/x-python",
   "name": "python",
   "nbconvert_exporter": "python",
   "pygments_lexer": "ipython3",
   "version": "3.9.12"
  },
  "orig_nbformat": 4
 },
 "nbformat": 4,
 "nbformat_minor": 2
}
