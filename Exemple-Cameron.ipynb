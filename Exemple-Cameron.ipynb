{
 "cells": [
  {
   "cell_type": "code",
   "execution_count": 1,
   "id": "bbac294b-7a4a-4983-8103-68d29c82fe85",
   "metadata": {},
   "outputs": [],
   "source": [
    "import numpy as np\n",
    "import matplotlib.pyplot as plt\n",
    "from astropy.convolution import Moffat2DKernel\n",
    "from scipy.signal import convolve as scipy_convolve"
   ]
  },
  {
   "cell_type": "code",
   "execution_count": 17,
   "id": "2b65b73e-1366-4ada-ab29-272a9807d4c4",
   "metadata": {},
   "outputs": [],
   "source": [
    "#here I use an analytical profile as the PSF (called a Moffat)\n",
    "#You will use instead a cutout of a star from the data\n",
    "PSF = Moffat2DKernel(gamma=3, alpha=2, x_size=20, y_size=20, mode='oversample')"
   ]
  },
  {
   "cell_type": "code",
   "execution_count": null,
   "id": "ddb3fe0a-606f-4d99-a215-337190ccc9ce",
   "metadata": {},
   "outputs": [],
   "source": [
    "plt.imshow(PSF, interpolation='none', origin='lower')\n",
    "plt.xlabel('x [pixels]')\n",
    "plt.ylabel('y [pixels]')\n",
    "plt.title('PSF')\n",
    "plt.colorbar()\n",
    "plt.show()"
   ]
  },
  {
   "cell_type": "code",
   "execution_count": null,
   "id": "bf6361e6-b15b-4144-9af5-5aa2afecebe0",
   "metadata": {},
   "outputs": [],
   "source": [
    "#Now we create a model of the *unconvolved* satellite track (an empty array with ones where the satellite is)\n",
    "track = np.zeros((100, 100))\n",
    "\n",
    "#just have it horizontal for now around the middle, but later you can adapt this to be at an angle; also look into convolving on an oversampled grid to avoid problems\n",
    "track[50, :] = 1."
   ]
  },
  {
   "cell_type": "code",
   "execution_count": null,
   "id": "8b47e607-a0e9-46d6-8a9b-9c00cb4e59aa",
   "metadata": {},
   "outputs": [],
   "source": [
    "plt.imshow(track, origin='lower')\n",
    "plt.title('Unconvolved satellite track of zero width')\n",
    "plt.colorbar()\n",
    "plt.show()"
   ]
  },
  {
   "cell_type": "code",
   "execution_count": null,
   "id": "c76223ac-a704-4631-ae6d-60dd3fac6e11",
   "metadata": {},
   "outputs": [],
   "source": [
    "track_conv = scipy_convolve(track, PSF, mode='same', method='direct')\n",
    "\n",
    "plt.imshow(track_conv, origin='lower')\n",
    "plt.title('Convolved satellite track')\n",
    "plt.colorbar()\n",
    "plt.show()"
   ]
  }
 ],
 "metadata": {
  "kernelspec": {
   "display_name": "Py proj sem",
   "language": "python",
   "name": "py_proj_sem"
  },
  "language_info": {
   "codemirror_mode": {
    "name": "ipython",
    "version": 3
   },
   "file_extension": ".py",
   "mimetype": "text/x-python",
   "name": "python",
   "nbconvert_exporter": "python",
   "pygments_lexer": "ipython3",
   "version": "3.8.10"
  }
 },
 "nbformat": 4,
 "nbformat_minor": 5
}
